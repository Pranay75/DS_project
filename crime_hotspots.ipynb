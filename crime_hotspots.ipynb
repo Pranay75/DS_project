{
 "cells": [
  {
   "cell_type": "code",
   "execution_count": 28,
   "metadata": {},
   "outputs": [],
   "source": [
    "import pandas as pd\n",
    "import sys\n",
    "import matplotlib.pyplot as plt\n",
    "import numpy as np\n",
    "from datetime import datetime\n",
    "import seaborn as sns\n",
    "from sklearn.tree import DecisionTreeClassifier\n",
    "from sklearn.model_selection import train_test_split\n",
    "from sklearn import metrics \n",
    "from sklearn.metrics import confusion_matrix, classification_report\n",
    "from sklearn.utils.multiclass import unique_labels"
   ]
  },
  {
   "cell_type": "code",
   "execution_count": 2,
   "metadata": {},
   "outputs": [
    {
     "name": "stdout",
     "output_type": "stream",
     "text": [
      "<class 'pandas.core.frame.DataFrame'>\n",
      "RangeIndex: 7842937 entries, 0 to 7842936\n",
      "Data columns (total 22 columns):\n",
      " #   Column                Dtype  \n",
      "---  ------                -----  \n",
      " 0   ID                    int64  \n",
      " 1   Case Number           object \n",
      " 2   Date                  object \n",
      " 3   Block                 object \n",
      " 4   IUCR                  object \n",
      " 5   Primary Type          object \n",
      " 6   Description           object \n",
      " 7   Location Description  object \n",
      " 8   Arrest                bool   \n",
      " 9   Domestic              bool   \n",
      " 10  Beat                  int64  \n",
      " 11  District              float64\n",
      " 12  Ward                  float64\n",
      " 13  Community Area        float64\n",
      " 14  FBI Code              object \n",
      " 15  X Coordinate          float64\n",
      " 16  Y Coordinate          float64\n",
      " 17  Year                  int64  \n",
      " 18  Updated On            object \n",
      " 19  Latitude              float64\n",
      " 20  Longitude             float64\n",
      " 21  Location              object \n",
      "dtypes: bool(2), float64(7), int64(3), object(10)\n",
      "memory usage: 1.2+ GB\n"
     ]
    }
   ],
   "source": [
    "df = pd.read_csv('Crimes_-_2001_to_Present.csv')\n",
    "df.info()"
   ]
  },
  {
   "cell_type": "code",
   "execution_count": 3,
   "metadata": {},
   "outputs": [
    {
     "data": {
      "text/plain": [
       "ID                           0\n",
       "Case Number                  4\n",
       "Date                         0\n",
       "Block                        0\n",
       "IUCR                         0\n",
       "Primary Type                 0\n",
       "Description                  0\n",
       "Location Description     10730\n",
       "Arrest                       0\n",
       "Domestic                     0\n",
       "Beat                         0\n",
       "District                    47\n",
       "Ward                    614849\n",
       "Community Area          613476\n",
       "FBI Code                     0\n",
       "X Coordinate             88022\n",
       "Y Coordinate             88022\n",
       "Year                         0\n",
       "Updated On                   0\n",
       "Latitude                 88022\n",
       "Longitude                88022\n",
       "Location                 88022\n",
       "dtype: int64"
      ]
     },
     "execution_count": 3,
     "metadata": {},
     "output_type": "execute_result"
    }
   ],
   "source": [
    "df.isnull().sum()"
   ]
  },
  {
   "cell_type": "code",
   "execution_count": 4,
   "metadata": {},
   "outputs": [],
   "source": [
    "df = df.dropna()"
   ]
  },
  {
   "cell_type": "code",
   "execution_count": 5,
   "metadata": {},
   "outputs": [
    {
     "data": {
      "text/plain": [
       "ID                      0\n",
       "Case Number             0\n",
       "Date                    0\n",
       "Block                   0\n",
       "IUCR                    0\n",
       "Primary Type            0\n",
       "Description             0\n",
       "Location Description    0\n",
       "Arrest                  0\n",
       "Domestic                0\n",
       "Beat                    0\n",
       "District                0\n",
       "Ward                    0\n",
       "Community Area          0\n",
       "FBI Code                0\n",
       "X Coordinate            0\n",
       "Y Coordinate            0\n",
       "Year                    0\n",
       "Updated On              0\n",
       "Latitude                0\n",
       "Longitude               0\n",
       "Location                0\n",
       "dtype: int64"
      ]
     },
     "execution_count": 5,
     "metadata": {},
     "output_type": "execute_result"
    }
   ],
   "source": [
    "df.isnull().sum()"
   ]
  },
  {
   "cell_type": "code",
   "execution_count": 6,
   "metadata": {},
   "outputs": [
    {
     "data": {
      "text/plain": [
       "Index(['ID', 'Case Number', 'Date', 'Block', 'IUCR', 'Primary Type',\n",
       "       'Description', 'Location Description', 'Arrest', 'Domestic', 'Beat',\n",
       "       'District', 'Ward', 'Community Area', 'FBI Code', 'X Coordinate',\n",
       "       'Y Coordinate', 'Year', 'Updated On', 'Latitude', 'Longitude',\n",
       "       'Location'],\n",
       "      dtype='object')"
      ]
     },
     "execution_count": 6,
     "metadata": {},
     "output_type": "execute_result"
    }
   ],
   "source": [
    "df.columns"
   ]
  },
  {
   "cell_type": "code",
   "execution_count": 7,
   "metadata": {},
   "outputs": [
    {
     "data": {
      "text/plain": [
       "6    2015-09-03 18:00:00\n",
       "11   2015-09-05 22:42:00\n",
       "15   2015-09-06 01:10:00\n",
       "17   2015-09-06 02:00:00\n",
       "23   2015-09-06 02:35:00\n",
       "Name: Date, dtype: datetime64[ns]"
      ]
     },
     "execution_count": 7,
     "metadata": {},
     "output_type": "execute_result"
    }
   ],
   "source": [
    "def convt(dt):\n",
    "    s1 = dt[:11]\n",
    "    s2 = dt[11:]\n",
    "    \n",
    "    month = s1[:2]\n",
    "    date = s1[3:5]\n",
    "    year = s1[6:10]\n",
    "    \n",
    "    hr = s2[:2]\n",
    "    mins = s2[3:5]\n",
    "    sec = s2[6:8]\n",
    "    time_frame = s2[9:]\n",
    "    if(time_frame == 'PM'):\n",
    "        if (int(hr) != 12):\n",
    "            hr = str(int(hr) + 12)\n",
    "    else:\n",
    "        if(int(hr) == 12):\n",
    "            hr = '00'\n",
    "    \n",
    "    final_date = datetime(int(year), int(month), int(date), int(hr), int(mins), int(sec))\n",
    "    return final_date\n",
    "    \n",
    "df['Date'] = df['Date'].apply(convt)\n",
    "df['Date'].head()"
   ]
  },
  {
   "cell_type": "code",
   "execution_count": 8,
   "metadata": {},
   "outputs": [],
   "source": [
    "# Feature Engineering 1 : Month\n",
    "def month_col(x):\n",
    "    return int(x.strftime(\"%m\"))\n",
    "df['Month'] = df['Date'].apply(month_col)\n",
    "\n",
    "# Feature Engineering 2 : Day\n",
    "def day_col(x):\n",
    "    return int(x.strftime(\"%w\"))\n",
    "df['Day'] = df['Date'].apply(day_col)  \n",
    "\n",
    "# Feature Engineering 3 : Hour\n",
    "def hour_col(x):\n",
    "    return int(x.strftime(\"%H\"))\n",
    "df['Hour'] = df['Date'].apply(hour_col)"
   ]
  },
  {
   "cell_type": "code",
   "execution_count": 9,
   "metadata": {},
   "outputs": [
    {
     "data": {
      "text/html": [
       "<div>\n",
       "<style scoped>\n",
       "    .dataframe tbody tr th:only-of-type {\n",
       "        vertical-align: middle;\n",
       "    }\n",
       "\n",
       "    .dataframe tbody tr th {\n",
       "        vertical-align: top;\n",
       "    }\n",
       "\n",
       "    .dataframe thead th {\n",
       "        text-align: right;\n",
       "    }\n",
       "</style>\n",
       "<table border=\"1\" class=\"dataframe\">\n",
       "  <thead>\n",
       "    <tr style=\"text-align: right;\">\n",
       "      <th></th>\n",
       "      <th>ID</th>\n",
       "      <th>Case Number</th>\n",
       "      <th>Date</th>\n",
       "      <th>Block</th>\n",
       "      <th>IUCR</th>\n",
       "      <th>Primary Type</th>\n",
       "      <th>Description</th>\n",
       "      <th>Location Description</th>\n",
       "      <th>Arrest</th>\n",
       "      <th>Domestic</th>\n",
       "      <th>...</th>\n",
       "      <th>X Coordinate</th>\n",
       "      <th>Y Coordinate</th>\n",
       "      <th>Year</th>\n",
       "      <th>Updated On</th>\n",
       "      <th>Latitude</th>\n",
       "      <th>Longitude</th>\n",
       "      <th>Location</th>\n",
       "      <th>Month</th>\n",
       "      <th>Day</th>\n",
       "      <th>Hour</th>\n",
       "    </tr>\n",
       "  </thead>\n",
       "  <tbody>\n",
       "    <tr>\n",
       "      <th>6</th>\n",
       "      <td>10224881</td>\n",
       "      <td>HY411873</td>\n",
       "      <td>2015-09-03 18:00:00</td>\n",
       "      <td>044XX S UNIVERSITY AVE</td>\n",
       "      <td>1310</td>\n",
       "      <td>CRIMINAL DAMAGE</td>\n",
       "      <td>TO PROPERTY</td>\n",
       "      <td>RESIDENCE</td>\n",
       "      <td>False</td>\n",
       "      <td>False</td>\n",
       "      <td>...</td>\n",
       "      <td>1184667.0</td>\n",
       "      <td>1875669.0</td>\n",
       "      <td>2015</td>\n",
       "      <td>02/10/2018 03:50:01 PM</td>\n",
       "      <td>41.813999</td>\n",
       "      <td>-87.598138</td>\n",
       "      <td>(41.81399924, -87.598137918)</td>\n",
       "      <td>9</td>\n",
       "      <td>4</td>\n",
       "      <td>18</td>\n",
       "    </tr>\n",
       "    <tr>\n",
       "      <th>11</th>\n",
       "      <td>10225155</td>\n",
       "      <td>HY412177</td>\n",
       "      <td>2015-09-05 22:42:00</td>\n",
       "      <td>007XX W IRVING PARK RD</td>\n",
       "      <td>0470</td>\n",
       "      <td>PUBLIC PEACE VIOLATION</td>\n",
       "      <td>RECKLESS CONDUCT</td>\n",
       "      <td>STREET</td>\n",
       "      <td>True</td>\n",
       "      <td>False</td>\n",
       "      <td>...</td>\n",
       "      <td>1170563.0</td>\n",
       "      <td>1926785.0</td>\n",
       "      <td>2015</td>\n",
       "      <td>02/10/2018 03:50:01 PM</td>\n",
       "      <td>41.954584</td>\n",
       "      <td>-87.648376</td>\n",
       "      <td>(41.954584472, -87.648375776)</td>\n",
       "      <td>9</td>\n",
       "      <td>6</td>\n",
       "      <td>22</td>\n",
       "    </tr>\n",
       "    <tr>\n",
       "      <th>15</th>\n",
       "      <td>10225206</td>\n",
       "      <td>HY412253</td>\n",
       "      <td>2015-09-06 01:10:00</td>\n",
       "      <td>047XX S STATE ST</td>\n",
       "      <td>041A</td>\n",
       "      <td>BATTERY</td>\n",
       "      <td>AGGRAVATED: HANDGUN</td>\n",
       "      <td>VACANT LOT/LAND</td>\n",
       "      <td>False</td>\n",
       "      <td>False</td>\n",
       "      <td>...</td>\n",
       "      <td>1177070.0</td>\n",
       "      <td>1873609.0</td>\n",
       "      <td>2015</td>\n",
       "      <td>02/10/2018 03:50:01 PM</td>\n",
       "      <td>41.808521</td>\n",
       "      <td>-87.626066</td>\n",
       "      <td>(41.80852139, -87.62606631)</td>\n",
       "      <td>9</td>\n",
       "      <td>0</td>\n",
       "      <td>1</td>\n",
       "    </tr>\n",
       "    <tr>\n",
       "      <th>17</th>\n",
       "      <td>10225234</td>\n",
       "      <td>HY412306</td>\n",
       "      <td>2015-09-06 02:00:00</td>\n",
       "      <td>002XX N ST LOUIS AVE</td>\n",
       "      <td>0420</td>\n",
       "      <td>BATTERY</td>\n",
       "      <td>AGGRAVATED:KNIFE/CUTTING INSTR</td>\n",
       "      <td>SIDEWALK</td>\n",
       "      <td>False</td>\n",
       "      <td>False</td>\n",
       "      <td>...</td>\n",
       "      <td>1153006.0</td>\n",
       "      <td>1901570.0</td>\n",
       "      <td>2015</td>\n",
       "      <td>02/10/2018 03:50:01 PM</td>\n",
       "      <td>41.885759</td>\n",
       "      <td>-87.713588</td>\n",
       "      <td>(41.885759278, -87.713588042)</td>\n",
       "      <td>9</td>\n",
       "      <td>0</td>\n",
       "      <td>2</td>\n",
       "    </tr>\n",
       "    <tr>\n",
       "      <th>23</th>\n",
       "      <td>10225308</td>\n",
       "      <td>HY412341</td>\n",
       "      <td>2015-09-06 02:35:00</td>\n",
       "      <td>013XX W ADDISON ST</td>\n",
       "      <td>2230</td>\n",
       "      <td>LIQUOR LAW VIOLATION</td>\n",
       "      <td>ILLEGAL CONSUMPTION BY MINOR</td>\n",
       "      <td>SIDEWALK</td>\n",
       "      <td>True</td>\n",
       "      <td>False</td>\n",
       "      <td>...</td>\n",
       "      <td>1166847.0</td>\n",
       "      <td>1924028.0</td>\n",
       "      <td>2015</td>\n",
       "      <td>09/17/2015 11:37:18 AM</td>\n",
       "      <td>41.947100</td>\n",
       "      <td>-87.662116</td>\n",
       "      <td>(41.947099832, -87.662115668)</td>\n",
       "      <td>9</td>\n",
       "      <td>0</td>\n",
       "      <td>2</td>\n",
       "    </tr>\n",
       "  </tbody>\n",
       "</table>\n",
       "<p>5 rows × 25 columns</p>\n",
       "</div>"
      ],
      "text/plain": [
       "          ID Case Number                Date                   Block  IUCR  \\\n",
       "6   10224881    HY411873 2015-09-03 18:00:00  044XX S UNIVERSITY AVE  1310   \n",
       "11  10225155    HY412177 2015-09-05 22:42:00  007XX W IRVING PARK RD  0470   \n",
       "15  10225206    HY412253 2015-09-06 01:10:00        047XX S STATE ST  041A   \n",
       "17  10225234    HY412306 2015-09-06 02:00:00    002XX N ST LOUIS AVE  0420   \n",
       "23  10225308    HY412341 2015-09-06 02:35:00      013XX W ADDISON ST  2230   \n",
       "\n",
       "              Primary Type                     Description  \\\n",
       "6          CRIMINAL DAMAGE                     TO PROPERTY   \n",
       "11  PUBLIC PEACE VIOLATION                RECKLESS CONDUCT   \n",
       "15                 BATTERY             AGGRAVATED: HANDGUN   \n",
       "17                 BATTERY  AGGRAVATED:KNIFE/CUTTING INSTR   \n",
       "23    LIQUOR LAW VIOLATION    ILLEGAL CONSUMPTION BY MINOR   \n",
       "\n",
       "   Location Description  Arrest  Domestic  ...  X Coordinate  Y Coordinate  \\\n",
       "6             RESIDENCE   False     False  ...     1184667.0     1875669.0   \n",
       "11               STREET    True     False  ...     1170563.0     1926785.0   \n",
       "15      VACANT LOT/LAND   False     False  ...     1177070.0     1873609.0   \n",
       "17             SIDEWALK   False     False  ...     1153006.0     1901570.0   \n",
       "23             SIDEWALK    True     False  ...     1166847.0     1924028.0   \n",
       "\n",
       "    Year              Updated On   Latitude  Longitude  \\\n",
       "6   2015  02/10/2018 03:50:01 PM  41.813999 -87.598138   \n",
       "11  2015  02/10/2018 03:50:01 PM  41.954584 -87.648376   \n",
       "15  2015  02/10/2018 03:50:01 PM  41.808521 -87.626066   \n",
       "17  2015  02/10/2018 03:50:01 PM  41.885759 -87.713588   \n",
       "23  2015  09/17/2015 11:37:18 AM  41.947100 -87.662116   \n",
       "\n",
       "                         Location  Month Day  Hour  \n",
       "6    (41.81399924, -87.598137918)      9   4    18  \n",
       "11  (41.954584472, -87.648375776)      9   6    22  \n",
       "15    (41.80852139, -87.62606631)      9   0     1  \n",
       "17  (41.885759278, -87.713588042)      9   0     2  \n",
       "23  (41.947099832, -87.662115668)      9   0     2  \n",
       "\n",
       "[5 rows x 25 columns]"
      ]
     },
     "execution_count": 9,
     "metadata": {},
     "output_type": "execute_result"
    }
   ],
   "source": [
    "df.head()"
   ]
  },
  {
   "cell_type": "code",
   "execution_count": 11,
   "metadata": {},
   "outputs": [
    {
     "data": {
      "text/plain": [
       "(6538850, 25)"
      ]
     },
     "execution_count": 11,
     "metadata": {},
     "output_type": "execute_result"
    }
   ],
   "source": [
    "top_10 = list(df['Primary Type'].value_counts().head(10).index)\n",
    "def filter_top_10(df):\n",
    "    return df[df['Primary Type'].isin(top_10)]\n",
    "\n",
    "df2 = filter_top_10(df)  # the DataFrame with all data of only the top 10 crimes\n",
    "df2.shape"
   ]
  },
  {
   "cell_type": "code",
   "execution_count": 14,
   "metadata": {},
   "outputs": [
    {
     "data": {
      "text/plain": [
       "array(['CRIMINAL DAMAGE', 'BATTERY', 'BURGLARY', 'THEFT', 'OTHER OFFENSE',\n",
       "       'ROBBERY', 'MOTOR VEHICLE THEFT', 'ASSAULT', 'NARCOTICS',\n",
       "       'DECEPTIVE PRACTICE'], dtype=object)"
      ]
     },
     "execution_count": 14,
     "metadata": {},
     "output_type": "execute_result"
    }
   ],
   "source": [
    "df2['Primary Type'].unique()"
   ]
  },
  {
   "cell_type": "code",
   "execution_count": 15,
   "metadata": {},
   "outputs": [
    {
     "data": {
      "text/html": [
       "<div>\n",
       "<style scoped>\n",
       "    .dataframe tbody tr th:only-of-type {\n",
       "        vertical-align: middle;\n",
       "    }\n",
       "\n",
       "    .dataframe tbody tr th {\n",
       "        vertical-align: top;\n",
       "    }\n",
       "\n",
       "    .dataframe thead th {\n",
       "        text-align: right;\n",
       "    }\n",
       "</style>\n",
       "<table border=\"1\" class=\"dataframe\">\n",
       "  <thead>\n",
       "    <tr style=\"text-align: right;\">\n",
       "      <th></th>\n",
       "      <th>Month</th>\n",
       "      <th>Day</th>\n",
       "      <th>District</th>\n",
       "      <th>Hour</th>\n",
       "      <th>Primary Type</th>\n",
       "    </tr>\n",
       "  </thead>\n",
       "  <tbody>\n",
       "    <tr>\n",
       "      <th>43979</th>\n",
       "      <td>12</td>\n",
       "      <td>5</td>\n",
       "      <td>31.0</td>\n",
       "      <td>21</td>\n",
       "      <td>1</td>\n",
       "    </tr>\n",
       "    <tr>\n",
       "      <th>44508</th>\n",
       "      <td>12</td>\n",
       "      <td>6</td>\n",
       "      <td>31.0</td>\n",
       "      <td>11</td>\n",
       "      <td>2</td>\n",
       "    </tr>\n",
       "    <tr>\n",
       "      <th>2653</th>\n",
       "      <td>1</td>\n",
       "      <td>4</td>\n",
       "      <td>31.0</td>\n",
       "      <td>22</td>\n",
       "      <td>1</td>\n",
       "    </tr>\n",
       "    <tr>\n",
       "      <th>2121</th>\n",
       "      <td>1</td>\n",
       "      <td>3</td>\n",
       "      <td>31.0</td>\n",
       "      <td>13</td>\n",
       "      <td>2</td>\n",
       "    </tr>\n",
       "    <tr>\n",
       "      <th>2120</th>\n",
       "      <td>1</td>\n",
       "      <td>3</td>\n",
       "      <td>31.0</td>\n",
       "      <td>10</td>\n",
       "      <td>2</td>\n",
       "    </tr>\n",
       "  </tbody>\n",
       "</table>\n",
       "</div>"
      ],
      "text/plain": [
       "       Month  Day  District  Hour  Primary Type\n",
       "43979     12    5      31.0    21             1\n",
       "44508     12    6      31.0    11             2\n",
       "2653       1    4      31.0    22             1\n",
       "2121       1    3      31.0    13             2\n",
       "2120       1    3      31.0    10             2"
      ]
     },
     "execution_count": 15,
     "metadata": {},
     "output_type": "execute_result"
    }
   ],
   "source": [
    "crime1 = df2.groupby(['Month','Day','District','Hour'], as_index=False).agg({\"Primary Type\":\"count\"})\n",
    "crime1 = crime1.sort_values(by=['District'], ascending=False)\n",
    "crime1.head()"
   ]
  },
  {
   "cell_type": "code",
   "execution_count": 16,
   "metadata": {},
   "outputs": [
    {
     "data": {
      "text/html": [
       "<div>\n",
       "<style scoped>\n",
       "    .dataframe tbody tr th:only-of-type {\n",
       "        vertical-align: middle;\n",
       "    }\n",
       "\n",
       "    .dataframe tbody tr th {\n",
       "        vertical-align: top;\n",
       "    }\n",
       "\n",
       "    .dataframe thead th {\n",
       "        text-align: right;\n",
       "    }\n",
       "</style>\n",
       "<table border=\"1\" class=\"dataframe\">\n",
       "  <thead>\n",
       "    <tr style=\"text-align: right;\">\n",
       "      <th></th>\n",
       "      <th>Month</th>\n",
       "      <th>Day</th>\n",
       "      <th>District</th>\n",
       "      <th>Hour</th>\n",
       "      <th>No_of_crimes</th>\n",
       "    </tr>\n",
       "  </thead>\n",
       "  <tbody>\n",
       "    <tr>\n",
       "      <th>43979</th>\n",
       "      <td>12</td>\n",
       "      <td>5</td>\n",
       "      <td>31.0</td>\n",
       "      <td>21</td>\n",
       "      <td>1</td>\n",
       "    </tr>\n",
       "    <tr>\n",
       "      <th>44508</th>\n",
       "      <td>12</td>\n",
       "      <td>6</td>\n",
       "      <td>31.0</td>\n",
       "      <td>11</td>\n",
       "      <td>2</td>\n",
       "    </tr>\n",
       "    <tr>\n",
       "      <th>2653</th>\n",
       "      <td>1</td>\n",
       "      <td>4</td>\n",
       "      <td>31.0</td>\n",
       "      <td>22</td>\n",
       "      <td>1</td>\n",
       "    </tr>\n",
       "    <tr>\n",
       "      <th>2121</th>\n",
       "      <td>1</td>\n",
       "      <td>3</td>\n",
       "      <td>31.0</td>\n",
       "      <td>13</td>\n",
       "      <td>2</td>\n",
       "    </tr>\n",
       "    <tr>\n",
       "      <th>2120</th>\n",
       "      <td>1</td>\n",
       "      <td>3</td>\n",
       "      <td>31.0</td>\n",
       "      <td>10</td>\n",
       "      <td>2</td>\n",
       "    </tr>\n",
       "  </tbody>\n",
       "</table>\n",
       "</div>"
      ],
      "text/plain": [
       "       Month  Day  District  Hour  No_of_crimes\n",
       "43979     12    5      31.0    21             1\n",
       "44508     12    6      31.0    11             2\n",
       "2653       1    4      31.0    22             1\n",
       "2121       1    3      31.0    13             2\n",
       "2120       1    3      31.0    10             2"
      ]
     },
     "execution_count": 16,
     "metadata": {},
     "output_type": "execute_result"
    }
   ],
   "source": [
    "crime=crime1.rename(index=str, columns={\"Primary Type\":\"No_of_crimes\"})\n",
    "crime.head()"
   ]
  },
  {
   "cell_type": "code",
   "execution_count": 19,
   "metadata": {},
   "outputs": [
    {
     "name": "stdout",
     "output_type": "stream",
     "text": [
      "Highest Crime Count at any district at any time point: 420\n",
      "Lowest Crime Count at any district at any time point: 1\n",
      "Average no. of crimes per ditrict per time point : 146.91\n"
     ]
    }
   ],
   "source": [
    "print(\"Highest Crime Count at any district at any time point:\", crime[\"No_of_crimes\"].max())\n",
    "print(\"Lowest Crime Count at any district at any time point:\", crime[\"No_of_crimes\"].min())\n",
    "print(\"Average no. of crimes per ditrict per time point :\",round(crime['No_of_crimes'].sum()/crime.shape[0], 2))"
   ]
  },
  {
   "cell_type": "code",
   "execution_count": 20,
   "metadata": {},
   "outputs": [
    {
     "name": "stdout",
     "output_type": "stream",
     "text": [
      "92.29142105125096 201.53005325731584\n"
     ]
    }
   ],
   "source": [
    "lower = np.mean(crime['No_of_crimes'])-0.75*np.std(crime['No_of_crimes'])\n",
    "higher = np.mean(crime['No_of_crimes'])+0.75*np.std(crime['No_of_crimes'])\n",
    "print(lower, higher)"
   ]
  },
  {
   "cell_type": "code",
   "execution_count": 22,
   "metadata": {},
   "outputs": [
    {
     "data": {
      "text/plain": [
       "Text(0.5, 1.0, 'Crime Count Distribution')"
      ]
     },
     "execution_count": 22,
     "metadata": {},
     "output_type": "execute_result"
    },
    {
     "data": {
      "image/png": "[encoded data removed]",
      "text/plain": [
       "<Figure size 640x480 with 1 Axes>"
      ]
     },
     "metadata": {},
     "output_type": "display_data"
    }
   ],
   "source": [
    "plt.hist(x='No_of_crimes', data=crime,bins=90,linewidth=1,edgecolor='black', color='#189ca9')\n",
    "plt.xlabel(\"Crimes per month per district per hour per day\")\n",
    "plt.ylabel(\"Frequency\")\n",
    "plt.title(\"Crime Count Distribution\")"
   ]
  },
  {
   "cell_type": "code",
   "execution_count": 25,
   "metadata": {},
   "outputs": [
    {
     "data": {
      "text/html": [
       "<div>\n",
       "<style scoped>\n",
       "    .dataframe tbody tr th:only-of-type {\n",
       "        vertical-align: middle;\n",
       "    }\n",
       "\n",
       "    .dataframe tbody tr th {\n",
       "        vertical-align: top;\n",
       "    }\n",
       "\n",
       "    .dataframe thead th {\n",
       "        text-align: right;\n",
       "    }\n",
       "</style>\n",
       "<table border=\"1\" class=\"dataframe\">\n",
       "  <thead>\n",
       "    <tr style=\"text-align: right;\">\n",
       "      <th></th>\n",
       "      <th>Month</th>\n",
       "      <th>Day</th>\n",
       "      <th>Hour</th>\n",
       "      <th>District</th>\n",
       "      <th>No_of_crimes</th>\n",
       "      <th>Crime Intensity</th>\n",
       "    </tr>\n",
       "  </thead>\n",
       "  <tbody>\n",
       "    <tr>\n",
       "      <th>43979</th>\n",
       "      <td>12</td>\n",
       "      <td>5</td>\n",
       "      <td>21</td>\n",
       "      <td>31.0</td>\n",
       "      <td>1</td>\n",
       "      <td>0</td>\n",
       "    </tr>\n",
       "    <tr>\n",
       "      <th>44508</th>\n",
       "      <td>12</td>\n",
       "      <td>6</td>\n",
       "      <td>11</td>\n",
       "      <td>31.0</td>\n",
       "      <td>2</td>\n",
       "      <td>0</td>\n",
       "    </tr>\n",
       "    <tr>\n",
       "      <th>2653</th>\n",
       "      <td>1</td>\n",
       "      <td>4</td>\n",
       "      <td>22</td>\n",
       "      <td>31.0</td>\n",
       "      <td>1</td>\n",
       "      <td>0</td>\n",
       "    </tr>\n",
       "    <tr>\n",
       "      <th>2121</th>\n",
       "      <td>1</td>\n",
       "      <td>3</td>\n",
       "      <td>13</td>\n",
       "      <td>31.0</td>\n",
       "      <td>2</td>\n",
       "      <td>0</td>\n",
       "    </tr>\n",
       "    <tr>\n",
       "      <th>2120</th>\n",
       "      <td>1</td>\n",
       "      <td>3</td>\n",
       "      <td>10</td>\n",
       "      <td>31.0</td>\n",
       "      <td>2</td>\n",
       "      <td>0</td>\n",
       "    </tr>\n",
       "  </tbody>\n",
       "</table>\n",
       "</div>"
      ],
      "text/plain": [
       "       Month  Day  Hour  District  No_of_crimes  Crime Intensity\n",
       "43979     12    5    21      31.0             1                0\n",
       "44508     12    6    11      31.0             2                0\n",
       "2653       1    4    22      31.0             1                0\n",
       "2121       1    3    13      31.0             2                0\n",
       "2120       1    3    10      31.0             2                0"
      ]
     },
     "execution_count": 25,
     "metadata": {},
     "output_type": "execute_result"
    }
   ],
   "source": [
    "def crime_rate_assign(x):\n",
    "    if(x<=92):\n",
    "        return 0\n",
    "    elif(x>92 and x<=201):\n",
    "        return 1\n",
    "    else:\n",
    "        return 2\n",
    "crime['Crime Intensity'] = crime['No_of_crimes'].apply(crime_rate_assign)\n",
    "crime = crime[['Month','Day','Hour','District','No_of_crimes','Crime Intensity']]    \n",
    "crime.head()"
   ]
  },
  {
   "cell_type": "code",
   "execution_count": 26,
   "metadata": {},
   "outputs": [
    {
     "data": {
      "text/plain": [
       "<Axes: >"
      ]
     },
     "execution_count": 26,
     "metadata": {},
     "output_type": "execute_result"
    },
    {
     "data": {
      "image/png": "[encoded data removed]",
      "text/plain": [
       "<Figure size 640x480 with 2 Axes>"
      ]
     },
     "metadata": {},
     "output_type": "display_data"
    }
   ],
   "source": [
    "temp = crime[['Month', 'Day', 'Hour', 'District', 'Crime Intensity']]\n",
    "sns.heatmap(temp.corr(), annot=True)"
   ]
  },
  {
   "cell_type": "code",
   "execution_count": 27,
   "metadata": {},
   "outputs": [
    {
     "data": {
      "text/plain": [
       "Crime Intensity\n",
       "1    21289\n",
       "0    12291\n",
       "2    10929\n",
       "Name: count, dtype: int64"
      ]
     },
     "execution_count": 27,
     "metadata": {},
     "output_type": "execute_result"
    }
   ],
   "source": [
    "crime['Crime Intensity'].value_counts()"
   ]
  },
  {
   "cell_type": "code",
   "execution_count": 32,
   "metadata": {},
   "outputs": [
    {
     "name": "stdout",
     "output_type": "stream",
     "text": [
      "Accuracy: 86.50251617541336 \n",
      "\n",
      "\n",
      "Confusion Matrix\n",
      "Predicted Intensity     0     1     2\n",
      "Actual Intensity                     \n",
      "0                    2813   293     0\n",
      "1                     293  4563   457\n",
      "2                       0   459  2250\n"
     ]
    }
   ],
   "source": [
    "X = crime[['Month', 'Day', 'Hour', 'District']]\n",
    "y = crime['Crime Intensity'] \n",
    "\n",
    "X_train, X_test, y_train, y_test = train_test_split(X, y, test_size=0.25, random_state=101) \n",
    "\n",
    "d_tree = DecisionTreeClassifier(random_state=101)\n",
    "\n",
    "d_tree = d_tree.fit(X_train, y_train)\n",
    "\n",
    "y_pred = d_tree.predict(X_test)\n",
    "\n",
    "print(\"Accuracy:\",(metrics.accuracy_score(y_test, y_pred)*100),\"\\n\")\n",
    "\n",
    "cm = pd.crosstab(y_test, y_pred, rownames=['Actual Intensity'], colnames=['Predicted Intensity'])\n",
    "print(\"\\nConfusion Matrix\")\n",
    "print(cm)"
   ]
  }
 ],
 "metadata": {
  "kernelspec": {
   "display_name": ".venv",
   "language": "python",
   "name": "python3"
  },
  "language_info": {
   "codemirror_mode": {
    "name": "ipython",
    "version": 3
   },
   "file_extension": ".py",
   "mimetype": "text/x-python",
   "name": "python",
   "nbconvert_exporter": "python",
   "pygments_lexer": "ipython3",
   "version": "3.12.7"
  }
 },
 "nbformat": 4,
 "nbformat_minor": 2
}
